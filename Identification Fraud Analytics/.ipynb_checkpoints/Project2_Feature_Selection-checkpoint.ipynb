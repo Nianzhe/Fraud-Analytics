{
 "cells": [
  {
   "cell_type": "code",
   "execution_count": 1,
   "metadata": {},
   "outputs": [],
   "source": [
    "import pandas as pd\n",
    "import numpy as np\n",
    "import random"
   ]
  },
  {
   "cell_type": "code",
   "execution_count": 2,
   "metadata": {},
   "outputs": [],
   "source": [
    "v = pd.read_csv('data.csv')"
   ]
  },
  {
   "cell_type": "code",
   "execution_count": 5,
   "metadata": {},
   "outputs": [],
   "source": [
    "v = v.drop('Unnamed: 0',axis = 1)"
   ]
  },
  {
   "cell_type": "code",
   "execution_count": 6,
   "metadata": {},
   "outputs": [],
   "source": [
    "v = v[v.record < 833508]"
   ]
  },
  {
   "cell_type": "code",
   "execution_count": 7,
   "metadata": {},
   "outputs": [],
   "source": [
    "v = v.set_index('record')"
   ]
  },
  {
   "cell_type": "code",
   "execution_count": 8,
   "metadata": {},
   "outputs": [],
   "source": [
    "from scipy import stats"
   ]
  },
  {
   "cell_type": "code",
   "execution_count": 9,
   "metadata": {},
   "outputs": [],
   "source": [
    "KSFDR = pd.DataFrame(columns = ['ks'])"
   ]
  },
  {
   "cell_type": "code",
   "execution_count": 10,
   "metadata": {},
   "outputs": [],
   "source": [
    "goods = v[v['fraud_label'] == 0]\n",
    "bads = v[v['fraud_label'] == 1]"
   ]
  },
  {
   "cell_type": "code",
   "execution_count": 11,
   "metadata": {},
   "outputs": [],
   "source": [
    "i = 0\n",
    "for column in list(v.columns):\n",
    "    KSFDR.loc[i,'ks'] = stats.ks_2samp(goods[column],bads[column])[0]\n",
    "    i = i+1"
   ]
  },
  {
   "cell_type": "code",
   "execution_count": 12,
   "metadata": {},
   "outputs": [],
   "source": [
    "KSFDR.index = v.columns"
   ]
  },
  {
   "cell_type": "code",
   "execution_count": 13,
   "metadata": {},
   "outputs": [],
   "source": [
    "KSFDR = KSFDR.reset_index()"
   ]
  },
  {
   "cell_type": "code",
   "execution_count": 14,
   "metadata": {},
   "outputs": [
    {
     "data": {
      "text/html": [
       "<div>\n",
       "<style scoped>\n",
       "    .dataframe tbody tr th:only-of-type {\n",
       "        vertical-align: middle;\n",
       "    }\n",
       "\n",
       "    .dataframe tbody tr th {\n",
       "        vertical-align: top;\n",
       "    }\n",
       "\n",
       "    .dataframe thead th {\n",
       "        text-align: right;\n",
       "    }\n",
       "</style>\n",
       "<table border=\"1\" class=\"dataframe\">\n",
       "  <thead>\n",
       "    <tr style=\"text-align: right;\">\n",
       "      <th></th>\n",
       "      <th>index</th>\n",
       "      <th>ks</th>\n",
       "    </tr>\n",
       "  </thead>\n",
       "  <tbody>\n",
       "    <tr>\n",
       "      <td>605</td>\n",
       "      <td>fraud_label</td>\n",
       "      <td>1</td>\n",
       "    </tr>\n",
       "    <tr>\n",
       "      <td>547</td>\n",
       "      <td>address_pastday</td>\n",
       "      <td>0.329781</td>\n",
       "    </tr>\n",
       "    <tr>\n",
       "      <td>561</td>\n",
       "      <td>address-zip5_pastday</td>\n",
       "      <td>0.328941</td>\n",
       "    </tr>\n",
       "    <tr>\n",
       "      <td>11</td>\n",
       "      <td>address_count30_date</td>\n",
       "      <td>0.328484</td>\n",
       "    </tr>\n",
       "    <tr>\n",
       "      <td>109</td>\n",
       "      <td>address-zip5_count30_date</td>\n",
       "      <td>0.327827</td>\n",
       "    </tr>\n",
       "    <tr>\n",
       "      <td>...</td>\n",
       "      <td>...</td>\n",
       "      <td>...</td>\n",
       "    </tr>\n",
       "    <tr>\n",
       "      <td>175</td>\n",
       "      <td>ssn-address-zip5_count0_date</td>\n",
       "      <td>0.00168458</td>\n",
       "    </tr>\n",
       "    <tr>\n",
       "      <td>280</td>\n",
       "      <td>name-ssn-homephone-dob_count0_date</td>\n",
       "      <td>0.00164877</td>\n",
       "    </tr>\n",
       "    <tr>\n",
       "      <td>273</td>\n",
       "      <td>name-ssn-homephone-dob-address-zip5_count0_date</td>\n",
       "      <td>0.00162807</td>\n",
       "    </tr>\n",
       "    <tr>\n",
       "      <td>189</td>\n",
       "      <td>ssn-homephone-zip5_count0_date</td>\n",
       "      <td>0.00162442</td>\n",
       "    </tr>\n",
       "    <tr>\n",
       "      <td>182</td>\n",
       "      <td>ssn-homephone-name_count0_date</td>\n",
       "      <td>0.00162198</td>\n",
       "    </tr>\n",
       "  </tbody>\n",
       "</table>\n",
       "<p>607 rows × 2 columns</p>\n",
       "</div>"
      ],
      "text/plain": [
       "                                               index          ks\n",
       "605                                      fraud_label           1\n",
       "547                                  address_pastday    0.329781\n",
       "561                             address-zip5_pastday    0.328941\n",
       "11                              address_count30_date    0.328484\n",
       "109                        address-zip5_count30_date    0.327827\n",
       "..                                               ...         ...\n",
       "175                     ssn-address-zip5_count0_date  0.00168458\n",
       "280               name-ssn-homephone-dob_count0_date  0.00164877\n",
       "273  name-ssn-homephone-dob-address-zip5_count0_date  0.00162807\n",
       "189                   ssn-homephone-zip5_count0_date  0.00162442\n",
       "182                   ssn-homephone-name_count0_date  0.00162198\n",
       "\n",
       "[607 rows x 2 columns]"
      ]
     },
     "execution_count": 14,
     "metadata": {},
     "output_type": "execute_result"
    }
   ],
   "source": [
    "KSFDR.sort_values('ks',ascending = False)"
   ]
  },
  {
   "cell_type": "code",
   "execution_count": 15,
   "metadata": {},
   "outputs": [],
   "source": [
    "numbads = len(bads)"
   ]
  },
  {
   "cell_type": "code",
   "execution_count": 24,
   "metadata": {
    "scrolled": true
   },
   "outputs": [],
   "source": [
    "topRows = int(round(len(v)*0.03))\n",
    "j = 0\n",
    "for column in v.columns:\n",
    "    if column != 'fraud_label':\n",
    "        temp1 = v[[column,'fraud_label']].sort_values(column,ascending=False).head(topRows)\n",
    "        temp2 = v[[column,'fraud_label']].sort_values(column,ascending=True).head(topRows)\n",
    "        needed1 = temp1.loc[:,'fraud_label']\n",
    "        needed2 = temp2.loc[:,'fraud_label']\n",
    "        FDR1 = sum(needed1)/numbads\n",
    "        FDR2 = sum(needed2)/numbads\n",
    "        FDRate = np.maximum(FDR1,FDR2)\n",
    "        KSFDR.loc[j, 'FDR'] = FDRate\n",
    "        j = j +1\n",
    "    else:\n",
    "        KSFDR.loc[j, 'FDR'] = 1\n",
    "        j = j+1"
   ]
  },
  {
   "cell_type": "code",
   "execution_count": 27,
   "metadata": {},
   "outputs": [],
   "source": [
    "KSFDR['KS_rank'] = KSFDR['ks'].rank(axis = 0)\n",
    "KSFDR['FDR_rank'] = KSFDR['FDR'].rank(axis = 0)\n",
    "KSFDR['Average_rank'] = (KSFDR['KS_rank'] + KSFDR['FDR_rank'])/2"
   ]
  },
  {
   "cell_type": "code",
   "execution_count": 28,
   "metadata": {},
   "outputs": [],
   "source": [
    "KSFDR.to_excel('HW6_ks.xlsx')"
   ]
  },
  {
   "cell_type": "code",
   "execution_count": 30,
   "metadata": {},
   "outputs": [
    {
     "data": {
      "text/plain": [
       "Ks_2sampResult(statistic=0.1075884958768979, pvalue=1.1346135307506619e-119)"
      ]
     },
     "execution_count": 30,
     "metadata": {},
     "output_type": "execute_result"
    }
   ],
   "source": [
    "stats.ks_2samp(goods['ssn_count0_date'],bads['ssn_count0_date'])"
   ]
  },
  {
   "cell_type": "code",
   "execution_count": null,
   "metadata": {},
   "outputs": [],
   "source": []
  }
 ],
 "metadata": {
  "kernelspec": {
   "display_name": "Python 3",
   "language": "python",
   "name": "python3"
  },
  "language_info": {
   "codemirror_mode": {
    "name": "ipython",
    "version": 3
   },
   "file_extension": ".py",
   "mimetype": "text/x-python",
   "name": "python",
   "nbconvert_exporter": "python",
   "pygments_lexer": "ipython3",
   "version": "3.6.9"
  }
 },
 "nbformat": 4,
 "nbformat_minor": 2
}
