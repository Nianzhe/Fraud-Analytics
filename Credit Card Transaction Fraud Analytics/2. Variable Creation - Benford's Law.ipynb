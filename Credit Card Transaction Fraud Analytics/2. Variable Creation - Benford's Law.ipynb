{
 "cells": [
  {
   "cell_type": "code",
   "execution_count": 1,
   "metadata": {},
   "outputs": [],
   "source": [
    "import pandas as pd\n",
    "import numpy as np"
   ]
  },
  {
   "cell_type": "code",
   "execution_count": 2,
   "metadata": {},
   "outputs": [],
   "source": [
    "df = pd.read_excel('no_missing.xlsx', converters={'Merchnum': lambda x: str(x), 'Merch_zip': lambda x : str(x)})"
   ]
  },
  {
   "cell_type": "code",
   "execution_count": 3,
   "metadata": {},
   "outputs": [],
   "source": [
    "df = df.drop(['Unnamed: 0','assign','minus'],axis = 1)"
   ]
  },
  {
   "cell_type": "code",
   "execution_count": 4,
   "metadata": {},
   "outputs": [
    {
     "name": "stdout",
     "output_type": "stream",
     "text": [
      "<class 'pandas.core.frame.DataFrame'>\n",
      "RangeIndex: 96397 entries, 0 to 96396\n",
      "Data columns (total 10 columns):\n",
      " #   Column                  Non-Null Count  Dtype         \n",
      "---  ------                  --------------  -----         \n",
      " 0   Merch_description       96397 non-null  object        \n",
      " 1   Merchnum                96397 non-null  object        \n",
      " 2   Recnum                  96397 non-null  int64         \n",
      " 3   Cardnum                 96397 non-null  int64         \n",
      " 4   Date                    96397 non-null  datetime64[ns]\n",
      " 5   Merch_state             96397 non-null  object        \n",
      " 6   Merch_zip               96397 non-null  object        \n",
      " 7   Amount                  96397 non-null  float64       \n",
      " 8   Fraud                   96397 non-null  int64         \n",
      " 9   Merch_description_part  96397 non-null  object        \n",
      "dtypes: datetime64[ns](1), float64(1), int64(3), object(5)\n",
      "memory usage: 7.4+ MB\n"
     ]
    }
   ],
   "source": [
    "df.info()"
   ]
  },
  {
   "cell_type": "markdown",
   "metadata": {},
   "source": [
    "## 1. Benford's Law Variable for merchnum and cardnum"
   ]
  },
  {
   "cell_type": "code",
   "execution_count": 5,
   "metadata": {},
   "outputs": [],
   "source": [
    "old = df.copy()"
   ]
  },
  {
   "cell_type": "code",
   "execution_count": 6,
   "metadata": {},
   "outputs": [],
   "source": [
    "old['stramount'] = old['Amount'].astype('str')"
   ]
  },
  {
   "cell_type": "code",
   "execution_count": 7,
   "metadata": {},
   "outputs": [],
   "source": [
    "old['stramount'] = old['stramount'].str.replace('.','')\n",
    "old['stramount'] = old['stramount'].astype(int).astype('str')"
   ]
  },
  {
   "cell_type": "code",
   "execution_count": 8,
   "metadata": {},
   "outputs": [
    {
     "data": {
      "text/html": [
       "<div>\n",
       "<style scoped>\n",
       "    .dataframe tbody tr th:only-of-type {\n",
       "        vertical-align: middle;\n",
       "    }\n",
       "\n",
       "    .dataframe tbody tr th {\n",
       "        vertical-align: top;\n",
       "    }\n",
       "\n",
       "    .dataframe thead th {\n",
       "        text-align: right;\n",
       "    }\n",
       "</style>\n",
       "<table border=\"1\" class=\"dataframe\">\n",
       "  <thead>\n",
       "    <tr style=\"text-align: right;\">\n",
       "      <th></th>\n",
       "      <th>Merch_description</th>\n",
       "      <th>Merchnum</th>\n",
       "      <th>Recnum</th>\n",
       "      <th>Cardnum</th>\n",
       "      <th>Date</th>\n",
       "      <th>Merch_state</th>\n",
       "      <th>Merch_zip</th>\n",
       "      <th>Amount</th>\n",
       "      <th>Fraud</th>\n",
       "      <th>Merch_description_part</th>\n",
       "      <th>stramount</th>\n",
       "    </tr>\n",
       "  </thead>\n",
       "  <tbody>\n",
       "  </tbody>\n",
       "</table>\n",
       "</div>"
      ],
      "text/plain": [
       "Empty DataFrame\n",
       "Columns: [Merch_description, Merchnum, Recnum, Cardnum, Date, Merch_state, Merch_zip, Amount, Fraud, Merch_description_part, stramount]\n",
       "Index: []"
      ]
     },
     "execution_count": 8,
     "metadata": {},
     "output_type": "execute_result"
    }
   ],
   "source": [
    "old[old['stramount'].str.startswith('0')]"
   ]
  },
  {
   "cell_type": "code",
   "execution_count": 9,
   "metadata": {},
   "outputs": [],
   "source": [
    "old['Merch_description'] = old['Merch_description'].str.lower()"
   ]
  },
  {
   "cell_type": "code",
   "execution_count": 10,
   "metadata": {},
   "outputs": [],
   "source": [
    "old = old[~old['Merch_description'].str.contains('fedex')]"
   ]
  },
  {
   "cell_type": "code",
   "execution_count": 11,
   "metadata": {},
   "outputs": [],
   "source": [
    "old['digit_1'] = old['stramount'].str[0]"
   ]
  },
  {
   "cell_type": "code",
   "execution_count": 12,
   "metadata": {},
   "outputs": [],
   "source": [
    "old['digit_1'] = old['digit_1'].astype(int)"
   ]
  },
  {
   "cell_type": "code",
   "execution_count": 13,
   "metadata": {},
   "outputs": [],
   "source": [
    "old = old[['Recnum','Merchnum','Cardnum','digit_1']]"
   ]
  },
  {
   "cell_type": "code",
   "execution_count": 14,
   "metadata": {},
   "outputs": [],
   "source": [
    "old['n_low'] = old['digit_1'] <= 2\n",
    "old['n_high'] = old['digit_1'] > 2"
   ]
  },
  {
   "cell_type": "code",
   "execution_count": 15,
   "metadata": {},
   "outputs": [],
   "source": [
    "new_card = old[['Recnum','Cardnum']]\n",
    "new_merch = old[['Recnum','Merchnum']]"
   ]
  },
  {
   "cell_type": "markdown",
   "metadata": {},
   "source": [
    "### 1.1 For each Cardnum"
   ]
  },
  {
   "cell_type": "code",
   "execution_count": 16,
   "metadata": {},
   "outputs": [],
   "source": [
    "benford_card = pd.merge(new_card, old, left_on = 'Cardnum', right_on = 'Cardnum')"
   ]
  },
  {
   "cell_type": "code",
   "execution_count": 17,
   "metadata": {},
   "outputs": [],
   "source": [
    "benford_card = benford_card[benford_card['Recnum_x'] >= benford_card['Recnum_y']]"
   ]
  },
  {
   "cell_type": "code",
   "execution_count": 18,
   "metadata": {},
   "outputs": [
    {
     "data": {
      "text/html": [
       "<div>\n",
       "<style scoped>\n",
       "    .dataframe tbody tr th:only-of-type {\n",
       "        vertical-align: middle;\n",
       "    }\n",
       "\n",
       "    .dataframe tbody tr th {\n",
       "        vertical-align: top;\n",
       "    }\n",
       "\n",
       "    .dataframe thead th {\n",
       "        text-align: right;\n",
       "    }\n",
       "</style>\n",
       "<table border=\"1\" class=\"dataframe\">\n",
       "  <thead>\n",
       "    <tr style=\"text-align: right;\">\n",
       "      <th></th>\n",
       "      <th>Recnum_x</th>\n",
       "      <th>Cardnum</th>\n",
       "      <th>Recnum_y</th>\n",
       "      <th>Merchnum</th>\n",
       "      <th>digit_1</th>\n",
       "      <th>n_low</th>\n",
       "      <th>n_high</th>\n",
       "    </tr>\n",
       "  </thead>\n",
       "  <tbody>\n",
       "    <tr>\n",
       "      <th>0</th>\n",
       "      <td>2</td>\n",
       "      <td>5142183973</td>\n",
       "      <td>2</td>\n",
       "      <td>61003026333</td>\n",
       "      <td>3</td>\n",
       "      <td>False</td>\n",
       "      <td>True</td>\n",
       "    </tr>\n",
       "    <tr>\n",
       "      <th>207</th>\n",
       "      <td>235</td>\n",
       "      <td>5142183973</td>\n",
       "      <td>2</td>\n",
       "      <td>61003026333</td>\n",
       "      <td>3</td>\n",
       "      <td>False</td>\n",
       "      <td>True</td>\n",
       "    </tr>\n",
       "    <tr>\n",
       "      <th>208</th>\n",
       "      <td>235</td>\n",
       "      <td>5142183973</td>\n",
       "      <td>235</td>\n",
       "      <td>456902380335</td>\n",
       "      <td>3</td>\n",
       "      <td>False</td>\n",
       "      <td>True</td>\n",
       "    </tr>\n",
       "    <tr>\n",
       "      <th>414</th>\n",
       "      <td>3639</td>\n",
       "      <td>5142183973</td>\n",
       "      <td>2</td>\n",
       "      <td>61003026333</td>\n",
       "      <td>3</td>\n",
       "      <td>False</td>\n",
       "      <td>True</td>\n",
       "    </tr>\n",
       "    <tr>\n",
       "      <th>415</th>\n",
       "      <td>3639</td>\n",
       "      <td>5142183973</td>\n",
       "      <td>235</td>\n",
       "      <td>456902380335</td>\n",
       "      <td>3</td>\n",
       "      <td>False</td>\n",
       "      <td>True</td>\n",
       "    </tr>\n",
       "  </tbody>\n",
       "</table>\n",
       "</div>"
      ],
      "text/plain": [
       "     Recnum_x     Cardnum  Recnum_y      Merchnum  digit_1  n_low  n_high\n",
       "0           2  5142183973         2   61003026333        3  False    True\n",
       "207       235  5142183973         2   61003026333        3  False    True\n",
       "208       235  5142183973       235  456902380335        3  False    True\n",
       "414      3639  5142183973         2   61003026333        3  False    True\n",
       "415      3639  5142183973       235  456902380335        3  False    True"
      ]
     },
     "execution_count": 18,
     "metadata": {},
     "output_type": "execute_result"
    }
   ],
   "source": [
    "benford_card.head()"
   ]
  },
  {
   "cell_type": "code",
   "execution_count": 19,
   "metadata": {},
   "outputs": [],
   "source": [
    "benford_card = benford_card.groupby(['Recnum_x','Cardnum']).agg({'n_low':'sum','n_high':'sum'})"
   ]
  },
  {
   "cell_type": "code",
   "execution_count": 20,
   "metadata": {},
   "outputs": [
    {
     "data": {
      "text/plain": [
       "n_low     0.0\n",
       "n_high    2.0\n",
       "Name: (235, 5142183973), dtype: float64"
      ]
     },
     "execution_count": 20,
     "metadata": {},
     "output_type": "execute_result"
    }
   ],
   "source": [
    "benford_card.loc[(235,5142183973),]"
   ]
  },
  {
   "cell_type": "code",
   "execution_count": 21,
   "metadata": {},
   "outputs": [
    {
     "data": {
      "text/html": [
       "<div>\n",
       "<style scoped>\n",
       "    .dataframe tbody tr th:only-of-type {\n",
       "        vertical-align: middle;\n",
       "    }\n",
       "\n",
       "    .dataframe tbody tr th {\n",
       "        vertical-align: top;\n",
       "    }\n",
       "\n",
       "    .dataframe thead th {\n",
       "        text-align: right;\n",
       "    }\n",
       "</style>\n",
       "<table border=\"1\" class=\"dataframe\">\n",
       "  <thead>\n",
       "    <tr style=\"text-align: right;\">\n",
       "      <th></th>\n",
       "      <th></th>\n",
       "      <th>n_low</th>\n",
       "      <th>n_high</th>\n",
       "    </tr>\n",
       "    <tr>\n",
       "      <th>Recnum_x</th>\n",
       "      <th>Cardnum</th>\n",
       "      <th></th>\n",
       "      <th></th>\n",
       "    </tr>\n",
       "  </thead>\n",
       "  <tbody>\n",
       "    <tr>\n",
       "      <th>2</th>\n",
       "      <th>5142183973</th>\n",
       "      <td>0.0</td>\n",
       "      <td>1.0</td>\n",
       "    </tr>\n",
       "    <tr>\n",
       "      <th>3</th>\n",
       "      <th>5142131721</th>\n",
       "      <td>1.0</td>\n",
       "      <td>0.0</td>\n",
       "    </tr>\n",
       "    <tr>\n",
       "      <th>8</th>\n",
       "      <th>5142191182</th>\n",
       "      <td>1.0</td>\n",
       "      <td>0.0</td>\n",
       "    </tr>\n",
       "    <tr>\n",
       "      <th>9</th>\n",
       "      <th>5142258629</th>\n",
       "      <td>0.0</td>\n",
       "      <td>1.0</td>\n",
       "    </tr>\n",
       "    <tr>\n",
       "      <th>14</th>\n",
       "      <th>5142124791</th>\n",
       "      <td>1.0</td>\n",
       "      <td>0.0</td>\n",
       "    </tr>\n",
       "  </tbody>\n",
       "</table>\n",
       "</div>"
      ],
      "text/plain": [
       "                     n_low  n_high\n",
       "Recnum_x Cardnum                  \n",
       "2        5142183973    0.0     1.0\n",
       "3        5142131721    1.0     0.0\n",
       "8        5142191182    1.0     0.0\n",
       "9        5142258629    0.0     1.0\n",
       "14       5142124791    1.0     0.0"
      ]
     },
     "execution_count": 21,
     "metadata": {},
     "output_type": "execute_result"
    }
   ],
   "source": [
    "benford_card.head()"
   ]
  },
  {
   "cell_type": "code",
   "execution_count": 22,
   "metadata": {},
   "outputs": [],
   "source": [
    "c = 3\n",
    "n_mid = 15"
   ]
  },
  {
   "cell_type": "code",
   "execution_count": 23,
   "metadata": {},
   "outputs": [],
   "source": [
    "benford_card['n_low'] = benford_card['n_low'].replace(0,1)\n",
    "benford_card['n_high'] = benford_card['n_high'].replace(0,1)\n",
    "benford_card['n'] = benford_card['n_low'] + benford_card['n_high']\n",
    "benford_card['R'] = benford_card['n_low']/benford_card['n_high'] *1.096\n",
    "benford_card['1/R'] = 1/benford_card['R']\n",
    "benford_card['t'] = (benford_card['n'] - n_mid)/c\n",
    "benford_card['U']  = benford_card[['R','1/R']].max(axis = 1)\n",
    "benford_card['U_star_card'] = (benford_card['U'] -1)/(1+np.exp(-benford_card['t'])) +1"
   ]
  },
  {
   "cell_type": "code",
   "execution_count": 24,
   "metadata": {},
   "outputs": [],
   "source": [
    "benford_card = benford_card.reset_index()"
   ]
  },
  {
   "cell_type": "code",
   "execution_count": 25,
   "metadata": {},
   "outputs": [
    {
     "data": {
      "text/html": [
       "<div>\n",
       "<style scoped>\n",
       "    .dataframe tbody tr th:only-of-type {\n",
       "        vertical-align: middle;\n",
       "    }\n",
       "\n",
       "    .dataframe tbody tr th {\n",
       "        vertical-align: top;\n",
       "    }\n",
       "\n",
       "    .dataframe thead th {\n",
       "        text-align: right;\n",
       "    }\n",
       "</style>\n",
       "<table border=\"1\" class=\"dataframe\">\n",
       "  <thead>\n",
       "    <tr style=\"text-align: right;\">\n",
       "      <th></th>\n",
       "      <th>Recnum_x</th>\n",
       "      <th>Cardnum</th>\n",
       "      <th>n_low</th>\n",
       "      <th>n_high</th>\n",
       "      <th>n</th>\n",
       "      <th>R</th>\n",
       "      <th>1/R</th>\n",
       "      <th>t</th>\n",
       "      <th>U</th>\n",
       "      <th>U_star_card</th>\n",
       "    </tr>\n",
       "  </thead>\n",
       "  <tbody>\n",
       "    <tr>\n",
       "      <th>0</th>\n",
       "      <td>2</td>\n",
       "      <td>5142183973</td>\n",
       "      <td>1.0</td>\n",
       "      <td>1.0</td>\n",
       "      <td>2.0</td>\n",
       "      <td>1.096000</td>\n",
       "      <td>0.912409</td>\n",
       "      <td>-4.333333</td>\n",
       "      <td>1.096000</td>\n",
       "      <td>1.001244</td>\n",
       "    </tr>\n",
       "    <tr>\n",
       "      <th>1</th>\n",
       "      <td>3</td>\n",
       "      <td>5142131721</td>\n",
       "      <td>1.0</td>\n",
       "      <td>1.0</td>\n",
       "      <td>2.0</td>\n",
       "      <td>1.096000</td>\n",
       "      <td>0.912409</td>\n",
       "      <td>-4.333333</td>\n",
       "      <td>1.096000</td>\n",
       "      <td>1.001244</td>\n",
       "    </tr>\n",
       "    <tr>\n",
       "      <th>2</th>\n",
       "      <td>8</td>\n",
       "      <td>5142191182</td>\n",
       "      <td>1.0</td>\n",
       "      <td>1.0</td>\n",
       "      <td>2.0</td>\n",
       "      <td>1.096000</td>\n",
       "      <td>0.912409</td>\n",
       "      <td>-4.333333</td>\n",
       "      <td>1.096000</td>\n",
       "      <td>1.001244</td>\n",
       "    </tr>\n",
       "    <tr>\n",
       "      <th>3</th>\n",
       "      <td>9</td>\n",
       "      <td>5142258629</td>\n",
       "      <td>1.0</td>\n",
       "      <td>1.0</td>\n",
       "      <td>2.0</td>\n",
       "      <td>1.096000</td>\n",
       "      <td>0.912409</td>\n",
       "      <td>-4.333333</td>\n",
       "      <td>1.096000</td>\n",
       "      <td>1.001244</td>\n",
       "    </tr>\n",
       "    <tr>\n",
       "      <th>4</th>\n",
       "      <td>14</td>\n",
       "      <td>5142124791</td>\n",
       "      <td>1.0</td>\n",
       "      <td>1.0</td>\n",
       "      <td>2.0</td>\n",
       "      <td>1.096000</td>\n",
       "      <td>0.912409</td>\n",
       "      <td>-4.333333</td>\n",
       "      <td>1.096000</td>\n",
       "      <td>1.001244</td>\n",
       "    </tr>\n",
       "    <tr>\n",
       "      <th>...</th>\n",
       "      <td>...</td>\n",
       "      <td>...</td>\n",
       "      <td>...</td>\n",
       "      <td>...</td>\n",
       "      <td>...</td>\n",
       "      <td>...</td>\n",
       "      <td>...</td>\n",
       "      <td>...</td>\n",
       "      <td>...</td>\n",
       "      <td>...</td>\n",
       "    </tr>\n",
       "    <tr>\n",
       "      <th>84617</th>\n",
       "      <td>96749</td>\n",
       "      <td>5142276053</td>\n",
       "      <td>2.0</td>\n",
       "      <td>2.0</td>\n",
       "      <td>4.0</td>\n",
       "      <td>1.096000</td>\n",
       "      <td>0.912409</td>\n",
       "      <td>-3.666667</td>\n",
       "      <td>1.096000</td>\n",
       "      <td>1.002393</td>\n",
       "    </tr>\n",
       "    <tr>\n",
       "      <th>84618</th>\n",
       "      <td>96750</td>\n",
       "      <td>5142225701</td>\n",
       "      <td>89.0</td>\n",
       "      <td>111.0</td>\n",
       "      <td>200.0</td>\n",
       "      <td>0.878775</td>\n",
       "      <td>1.137948</td>\n",
       "      <td>61.666667</td>\n",
       "      <td>1.137948</td>\n",
       "      <td>1.137948</td>\n",
       "    </tr>\n",
       "    <tr>\n",
       "      <th>84619</th>\n",
       "      <td>96751</td>\n",
       "      <td>5142226486</td>\n",
       "      <td>60.0</td>\n",
       "      <td>79.0</td>\n",
       "      <td>139.0</td>\n",
       "      <td>0.832405</td>\n",
       "      <td>1.201338</td>\n",
       "      <td>41.333333</td>\n",
       "      <td>1.201338</td>\n",
       "      <td>1.201338</td>\n",
       "    </tr>\n",
       "    <tr>\n",
       "      <th>84620</th>\n",
       "      <td>96752</td>\n",
       "      <td>5142244619</td>\n",
       "      <td>26.0</td>\n",
       "      <td>19.0</td>\n",
       "      <td>45.0</td>\n",
       "      <td>1.499789</td>\n",
       "      <td>0.666760</td>\n",
       "      <td>10.000000</td>\n",
       "      <td>1.499789</td>\n",
       "      <td>1.499767</td>\n",
       "    </tr>\n",
       "    <tr>\n",
       "      <th>84621</th>\n",
       "      <td>96753</td>\n",
       "      <td>5142243247</td>\n",
       "      <td>108.0</td>\n",
       "      <td>146.0</td>\n",
       "      <td>254.0</td>\n",
       "      <td>0.810740</td>\n",
       "      <td>1.233441</td>\n",
       "      <td>79.666667</td>\n",
       "      <td>1.233441</td>\n",
       "      <td>1.233441</td>\n",
       "    </tr>\n",
       "  </tbody>\n",
       "</table>\n",
       "<p>84622 rows × 10 columns</p>\n",
       "</div>"
      ],
      "text/plain": [
       "       Recnum_x     Cardnum  n_low  n_high      n         R       1/R  \\\n",
       "0             2  5142183973    1.0     1.0    2.0  1.096000  0.912409   \n",
       "1             3  5142131721    1.0     1.0    2.0  1.096000  0.912409   \n",
       "2             8  5142191182    1.0     1.0    2.0  1.096000  0.912409   \n",
       "3             9  5142258629    1.0     1.0    2.0  1.096000  0.912409   \n",
       "4            14  5142124791    1.0     1.0    2.0  1.096000  0.912409   \n",
       "...         ...         ...    ...     ...    ...       ...       ...   \n",
       "84617     96749  5142276053    2.0     2.0    4.0  1.096000  0.912409   \n",
       "84618     96750  5142225701   89.0   111.0  200.0  0.878775  1.137948   \n",
       "84619     96751  5142226486   60.0    79.0  139.0  0.832405  1.201338   \n",
       "84620     96752  5142244619   26.0    19.0   45.0  1.499789  0.666760   \n",
       "84621     96753  5142243247  108.0   146.0  254.0  0.810740  1.233441   \n",
       "\n",
       "               t         U  U_star_card  \n",
       "0      -4.333333  1.096000     1.001244  \n",
       "1      -4.333333  1.096000     1.001244  \n",
       "2      -4.333333  1.096000     1.001244  \n",
       "3      -4.333333  1.096000     1.001244  \n",
       "4      -4.333333  1.096000     1.001244  \n",
       "...          ...       ...          ...  \n",
       "84617  -3.666667  1.096000     1.002393  \n",
       "84618  61.666667  1.137948     1.137948  \n",
       "84619  41.333333  1.201338     1.201338  \n",
       "84620  10.000000  1.499789     1.499767  \n",
       "84621  79.666667  1.233441     1.233441  \n",
       "\n",
       "[84622 rows x 10 columns]"
      ]
     },
     "execution_count": 25,
     "metadata": {},
     "output_type": "execute_result"
    }
   ],
   "source": [
    "benford_card"
   ]
  },
  {
   "cell_type": "markdown",
   "metadata": {},
   "source": [
    "### 1.2 For each Merchnum"
   ]
  },
  {
   "cell_type": "code",
   "execution_count": 26,
   "metadata": {},
   "outputs": [],
   "source": [
    "benford_merch = pd.merge(new_merch, old, left_on = 'Merchnum', right_on = 'Merchnum')\n",
    "benford_merch = benford_merch[benford_merch['Recnum_x'] >= benford_merch['Recnum_y']]\n",
    "benford_merch = benford_merch.groupby(['Recnum_x','Merchnum']).agg({'n_low':'sum','n_high':'sum'})\n",
    "benford_merch['n_low'] = benford_merch['n_low'].replace(0,1)\n",
    "benford_merch['n_high'] = benford_merch['n_high'].replace(0,1)\n",
    "benford_merch['n'] = benford_merch['n_low'] + benford_merch['n_high']\n",
    "benford_merch['R'] = benford_merch['n_low']/benford_merch['n_high'] *1.096\n",
    "benford_merch['1/R'] = 1/benford_merch['R']\n",
    "benford_merch['t'] = (benford_merch['n'] - n_mid)/c\n",
    "benford_merch['U']  = benford_merch[['R','1/R']].max(axis = 1)\n",
    "benford_merch['U_star_merch'] = (benford_merch['U'] -1)/(1+np.exp(-benford_merch['t'])) +1\n",
    "benford_merch = benford_merch.reset_index()"
   ]
  },
  {
   "cell_type": "code",
   "execution_count": 27,
   "metadata": {},
   "outputs": [
    {
     "data": {
      "text/html": [
       "<div>\n",
       "<style scoped>\n",
       "    .dataframe tbody tr th:only-of-type {\n",
       "        vertical-align: middle;\n",
       "    }\n",
       "\n",
       "    .dataframe tbody tr th {\n",
       "        vertical-align: top;\n",
       "    }\n",
       "\n",
       "    .dataframe thead th {\n",
       "        text-align: right;\n",
       "    }\n",
       "</style>\n",
       "<table border=\"1\" class=\"dataframe\">\n",
       "  <thead>\n",
       "    <tr style=\"text-align: right;\">\n",
       "      <th></th>\n",
       "      <th>Recnum_x</th>\n",
       "      <th>Merchnum</th>\n",
       "      <th>n_low</th>\n",
       "      <th>n_high</th>\n",
       "      <th>n</th>\n",
       "      <th>R</th>\n",
       "      <th>1/R</th>\n",
       "      <th>t</th>\n",
       "      <th>U</th>\n",
       "      <th>U_star_merch</th>\n",
       "    </tr>\n",
       "  </thead>\n",
       "  <tbody>\n",
       "    <tr>\n",
       "      <th>0</th>\n",
       "      <td>2</td>\n",
       "      <td>61003026333</td>\n",
       "      <td>1.0</td>\n",
       "      <td>1.0</td>\n",
       "      <td>2.0</td>\n",
       "      <td>1.096000</td>\n",
       "      <td>0.912409</td>\n",
       "      <td>-4.333333</td>\n",
       "      <td>1.096000</td>\n",
       "      <td>1.001244</td>\n",
       "    </tr>\n",
       "    <tr>\n",
       "      <th>1</th>\n",
       "      <td>3</td>\n",
       "      <td>4503082993600</td>\n",
       "      <td>1.0</td>\n",
       "      <td>1.0</td>\n",
       "      <td>2.0</td>\n",
       "      <td>1.096000</td>\n",
       "      <td>0.912409</td>\n",
       "      <td>-4.333333</td>\n",
       "      <td>1.096000</td>\n",
       "      <td>1.001244</td>\n",
       "    </tr>\n",
       "    <tr>\n",
       "      <th>2</th>\n",
       "      <td>8</td>\n",
       "      <td>6098208200062</td>\n",
       "      <td>1.0</td>\n",
       "      <td>1.0</td>\n",
       "      <td>2.0</td>\n",
       "      <td>1.096000</td>\n",
       "      <td>0.912409</td>\n",
       "      <td>-4.333333</td>\n",
       "      <td>1.096000</td>\n",
       "      <td>1.001244</td>\n",
       "    </tr>\n",
       "    <tr>\n",
       "      <th>3</th>\n",
       "      <td>9</td>\n",
       "      <td>602608969534</td>\n",
       "      <td>1.0</td>\n",
       "      <td>1.0</td>\n",
       "      <td>2.0</td>\n",
       "      <td>1.096000</td>\n",
       "      <td>0.912409</td>\n",
       "      <td>-4.333333</td>\n",
       "      <td>1.096000</td>\n",
       "      <td>1.001244</td>\n",
       "    </tr>\n",
       "    <tr>\n",
       "      <th>4</th>\n",
       "      <td>14</td>\n",
       "      <td>5725000466504</td>\n",
       "      <td>1.0</td>\n",
       "      <td>1.0</td>\n",
       "      <td>2.0</td>\n",
       "      <td>1.096000</td>\n",
       "      <td>0.912409</td>\n",
       "      <td>-4.333333</td>\n",
       "      <td>1.096000</td>\n",
       "      <td>1.001244</td>\n",
       "    </tr>\n",
       "    <tr>\n",
       "      <th>...</th>\n",
       "      <td>...</td>\n",
       "      <td>...</td>\n",
       "      <td>...</td>\n",
       "      <td>...</td>\n",
       "      <td>...</td>\n",
       "      <td>...</td>\n",
       "      <td>...</td>\n",
       "      <td>...</td>\n",
       "      <td>...</td>\n",
       "      <td>...</td>\n",
       "    </tr>\n",
       "    <tr>\n",
       "      <th>84617</th>\n",
       "      <td>96749</td>\n",
       "      <td>3500000006160</td>\n",
       "      <td>1.0</td>\n",
       "      <td>1.0</td>\n",
       "      <td>2.0</td>\n",
       "      <td>1.096000</td>\n",
       "      <td>0.912409</td>\n",
       "      <td>-4.333333</td>\n",
       "      <td>1.096000</td>\n",
       "      <td>1.001244</td>\n",
       "    </tr>\n",
       "    <tr>\n",
       "      <th>84618</th>\n",
       "      <td>96750</td>\n",
       "      <td>8090710030950</td>\n",
       "      <td>17.0</td>\n",
       "      <td>24.0</td>\n",
       "      <td>41.0</td>\n",
       "      <td>0.776333</td>\n",
       "      <td>1.288106</td>\n",
       "      <td>8.666667</td>\n",
       "      <td>1.288106</td>\n",
       "      <td>1.288057</td>\n",
       "    </tr>\n",
       "    <tr>\n",
       "      <th>84619</th>\n",
       "      <td>96751</td>\n",
       "      <td>4503057341100</td>\n",
       "      <td>110.0</td>\n",
       "      <td>109.0</td>\n",
       "      <td>219.0</td>\n",
       "      <td>1.106055</td>\n",
       "      <td>0.904114</td>\n",
       "      <td>68.000000</td>\n",
       "      <td>1.106055</td>\n",
       "      <td>1.106055</td>\n",
       "    </tr>\n",
       "    <tr>\n",
       "      <th>84620</th>\n",
       "      <td>96752</td>\n",
       "      <td>8834000695412</td>\n",
       "      <td>232.0</td>\n",
       "      <td>247.0</td>\n",
       "      <td>479.0</td>\n",
       "      <td>1.029441</td>\n",
       "      <td>0.971401</td>\n",
       "      <td>154.666667</td>\n",
       "      <td>1.029441</td>\n",
       "      <td>1.029441</td>\n",
       "    </tr>\n",
       "    <tr>\n",
       "      <th>84621</th>\n",
       "      <td>96753</td>\n",
       "      <td>9108347680006</td>\n",
       "      <td>59.0</td>\n",
       "      <td>72.0</td>\n",
       "      <td>131.0</td>\n",
       "      <td>0.898111</td>\n",
       "      <td>1.113448</td>\n",
       "      <td>38.666667</td>\n",
       "      <td>1.113448</td>\n",
       "      <td>1.113448</td>\n",
       "    </tr>\n",
       "  </tbody>\n",
       "</table>\n",
       "<p>84622 rows × 10 columns</p>\n",
       "</div>"
      ],
      "text/plain": [
       "       Recnum_x       Merchnum  n_low  n_high      n         R       1/R  \\\n",
       "0             2    61003026333    1.0     1.0    2.0  1.096000  0.912409   \n",
       "1             3  4503082993600    1.0     1.0    2.0  1.096000  0.912409   \n",
       "2             8  6098208200062    1.0     1.0    2.0  1.096000  0.912409   \n",
       "3             9   602608969534    1.0     1.0    2.0  1.096000  0.912409   \n",
       "4            14  5725000466504    1.0     1.0    2.0  1.096000  0.912409   \n",
       "...         ...            ...    ...     ...    ...       ...       ...   \n",
       "84617     96749  3500000006160    1.0     1.0    2.0  1.096000  0.912409   \n",
       "84618     96750  8090710030950   17.0    24.0   41.0  0.776333  1.288106   \n",
       "84619     96751  4503057341100  110.0   109.0  219.0  1.106055  0.904114   \n",
       "84620     96752  8834000695412  232.0   247.0  479.0  1.029441  0.971401   \n",
       "84621     96753  9108347680006   59.0    72.0  131.0  0.898111  1.113448   \n",
       "\n",
       "                t         U  U_star_merch  \n",
       "0       -4.333333  1.096000      1.001244  \n",
       "1       -4.333333  1.096000      1.001244  \n",
       "2       -4.333333  1.096000      1.001244  \n",
       "3       -4.333333  1.096000      1.001244  \n",
       "4       -4.333333  1.096000      1.001244  \n",
       "...           ...       ...           ...  \n",
       "84617   -4.333333  1.096000      1.001244  \n",
       "84618    8.666667  1.288106      1.288057  \n",
       "84619   68.000000  1.106055      1.106055  \n",
       "84620  154.666667  1.029441      1.029441  \n",
       "84621   38.666667  1.113448      1.113448  \n",
       "\n",
       "[84622 rows x 10 columns]"
      ]
     },
     "execution_count": 27,
     "metadata": {},
     "output_type": "execute_result"
    }
   ],
   "source": [
    "benford_merch"
   ]
  },
  {
   "cell_type": "code",
   "execution_count": 28,
   "metadata": {},
   "outputs": [],
   "source": [
    "benford_value = pd.merge(benford_card[['Recnum_x','U_star_card']], benford_merch[['Recnum_x','U_star_merch']], left_on = 'Recnum_x', right_on = 'Recnum_x')"
   ]
  },
  {
   "cell_type": "code",
   "execution_count": 29,
   "metadata": {},
   "outputs": [],
   "source": [
    "benford_value.columns = ['Recnum','U_star_card','U_star_merch']"
   ]
  },
  {
   "cell_type": "code",
   "execution_count": 30,
   "metadata": {},
   "outputs": [],
   "source": [
    "benford_value = benford_value.set_index('Recnum')"
   ]
  },
  {
   "cell_type": "code",
   "execution_count": 31,
   "metadata": {},
   "outputs": [],
   "source": [
    "benford = df[['Recnum']].set_index('Recnum')"
   ]
  },
  {
   "cell_type": "code",
   "execution_count": 32,
   "metadata": {},
   "outputs": [],
   "source": [
    "benford = pd.merge(benford, benford_value, left_index = True, right_index = True, how = 'left')"
   ]
  },
  {
   "cell_type": "code",
   "execution_count": 33,
   "metadata": {},
   "outputs": [],
   "source": [
    "benford['U_star_card'] = benford['U_star_card'].fillna(1)\n",
    "benford['U_star_merch'] = benford['U_star_merch'].fillna(1)"
   ]
  },
  {
   "cell_type": "code",
   "execution_count": 34,
   "metadata": {},
   "outputs": [
    {
     "data": {
      "text/html": [
       "<div>\n",
       "<style scoped>\n",
       "    .dataframe tbody tr th:only-of-type {\n",
       "        vertical-align: middle;\n",
       "    }\n",
       "\n",
       "    .dataframe tbody tr th {\n",
       "        vertical-align: top;\n",
       "    }\n",
       "\n",
       "    .dataframe thead th {\n",
       "        text-align: right;\n",
       "    }\n",
       "</style>\n",
       "<table border=\"1\" class=\"dataframe\">\n",
       "  <thead>\n",
       "    <tr style=\"text-align: right;\">\n",
       "      <th></th>\n",
       "      <th>U_star_card</th>\n",
       "      <th>U_star_merch</th>\n",
       "    </tr>\n",
       "    <tr>\n",
       "      <th>Recnum</th>\n",
       "      <th></th>\n",
       "      <th></th>\n",
       "    </tr>\n",
       "  </thead>\n",
       "  <tbody>\n",
       "    <tr>\n",
       "      <th>1</th>\n",
       "      <td>1.000000</td>\n",
       "      <td>1.000000</td>\n",
       "    </tr>\n",
       "    <tr>\n",
       "      <th>2</th>\n",
       "      <td>1.001244</td>\n",
       "      <td>1.001244</td>\n",
       "    </tr>\n",
       "    <tr>\n",
       "      <th>3</th>\n",
       "      <td>1.001244</td>\n",
       "      <td>1.001244</td>\n",
       "    </tr>\n",
       "    <tr>\n",
       "      <th>4</th>\n",
       "      <td>1.000000</td>\n",
       "      <td>1.000000</td>\n",
       "    </tr>\n",
       "    <tr>\n",
       "      <th>5</th>\n",
       "      <td>1.000000</td>\n",
       "      <td>1.000000</td>\n",
       "    </tr>\n",
       "    <tr>\n",
       "      <th>...</th>\n",
       "      <td>...</td>\n",
       "      <td>...</td>\n",
       "    </tr>\n",
       "    <tr>\n",
       "      <th>96749</th>\n",
       "      <td>1.002393</td>\n",
       "      <td>1.001244</td>\n",
       "    </tr>\n",
       "    <tr>\n",
       "      <th>96750</th>\n",
       "      <td>1.137948</td>\n",
       "      <td>1.288057</td>\n",
       "    </tr>\n",
       "    <tr>\n",
       "      <th>96751</th>\n",
       "      <td>1.201338</td>\n",
       "      <td>1.106055</td>\n",
       "    </tr>\n",
       "    <tr>\n",
       "      <th>96752</th>\n",
       "      <td>1.499767</td>\n",
       "      <td>1.029441</td>\n",
       "    </tr>\n",
       "    <tr>\n",
       "      <th>96753</th>\n",
       "      <td>1.233441</td>\n",
       "      <td>1.113448</td>\n",
       "    </tr>\n",
       "  </tbody>\n",
       "</table>\n",
       "<p>96397 rows × 2 columns</p>\n",
       "</div>"
      ],
      "text/plain": [
       "        U_star_card  U_star_merch\n",
       "Recnum                           \n",
       "1          1.000000      1.000000\n",
       "2          1.001244      1.001244\n",
       "3          1.001244      1.001244\n",
       "4          1.000000      1.000000\n",
       "5          1.000000      1.000000\n",
       "...             ...           ...\n",
       "96749      1.002393      1.001244\n",
       "96750      1.137948      1.288057\n",
       "96751      1.201338      1.106055\n",
       "96752      1.499767      1.029441\n",
       "96753      1.233441      1.113448\n",
       "\n",
       "[96397 rows x 2 columns]"
      ]
     },
     "execution_count": 34,
     "metadata": {},
     "output_type": "execute_result"
    }
   ],
   "source": [
    "benford"
   ]
  },
  {
   "cell_type": "code",
   "execution_count": 35,
   "metadata": {},
   "outputs": [],
   "source": [
    "benford.to_csv('Benford.csv')"
   ]
  },
  {
   "cell_type": "code",
   "execution_count": null,
   "metadata": {},
   "outputs": [],
   "source": []
  }
 ],
 "metadata": {
  "kernelspec": {
   "display_name": "Python 3",
   "language": "python",
   "name": "python3"
  },
  "language_info": {
   "codemirror_mode": {
    "name": "ipython",
    "version": 3
   },
   "file_extension": ".py",
   "mimetype": "text/x-python",
   "name": "python",
   "nbconvert_exporter": "python",
   "pygments_lexer": "ipython3",
   "version": "3.7.6"
  }
 },
 "nbformat": 4,
 "nbformat_minor": 4
}
