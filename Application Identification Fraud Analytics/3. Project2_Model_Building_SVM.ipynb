{
 "cells": [
  {
   "cell_type": "code",
   "execution_count": 1,
   "metadata": {},
   "outputs": [],
   "source": [
    "import pandas as pd\n",
    "import numpy as np\n",
    "from sklearn.model_selection import train_test_split\n",
    "from sklearn.model_selection import StratifiedKFold\n",
    "from sklearn.model_selection import GridSearchCV\n",
    "from sklearn.linear_model import LogisticRegression\n",
    "from sklearn import svm\n",
    "import time\n",
    "from sklearn.ensemble import BaggingClassifier"
   ]
  },
  {
   "cell_type": "code",
   "execution_count": 2,
   "metadata": {},
   "outputs": [],
   "source": [
    "variable = pd.read_csv(\"feature_selection_final.csv\")\n",
    "flabel = pd.read_csv(\"flabel.csv\")\n",
    "X_oot = pd.read_csv(\"data_final_OOT.csv\")\n",
    "# oot = flabel.iloc[:833507][\"fraud_label\"]"
   ]
  },
  {
   "cell_type": "code",
   "execution_count": 3,
   "metadata": {},
   "outputs": [],
   "source": [
    "y = flabel.iloc[:833507][\"fraud_label\"]\n",
    "y_oot = flabel.iloc[833507:][\"fraud_label\"]"
   ]
  },
  {
   "cell_type": "code",
   "execution_count": 4,
   "metadata": {},
   "outputs": [
    {
     "data": {
      "text/plain": [
       "True"
      ]
     },
     "execution_count": 4,
     "metadata": {},
     "output_type": "execute_result"
    }
   ],
   "source": [
    "X_oot.shape[0] == y_oot.shape[0]"
   ]
  },
  {
   "cell_type": "code",
   "execution_count": 5,
   "metadata": {},
   "outputs": [],
   "source": [
    "vlist = list(variable.columns)\n",
    "vlist.remove('record')"
   ]
  },
  {
   "cell_type": "code",
   "execution_count": 6,
   "metadata": {},
   "outputs": [],
   "source": [
    "X= variable[vlist]\n",
    "y = y\n",
    "X_oot = X_oot[vlist]"
   ]
  },
  {
   "cell_type": "code",
   "execution_count": 7,
   "metadata": {},
   "outputs": [
    {
     "data": {
      "text/plain": [
       "True"
      ]
     },
     "execution_count": 7,
     "metadata": {},
     "output_type": "execute_result"
    }
   ],
   "source": [
    "X.shape[1] == X_oot.shape[1]"
   ]
  },
  {
   "cell_type": "code",
   "execution_count": 8,
   "metadata": {},
   "outputs": [],
   "source": [
    "from sklearn.preprocessing import StandardScaler\n",
    "scaler=StandardScaler()"
   ]
  },
  {
   "cell_type": "code",
   "execution_count": 9,
   "metadata": {},
   "outputs": [],
   "source": [
    "x_train,x_test,y_train,y_test = train_test_split(X,y,test_size=0.2)\n",
    "# x_train2,x_test2,y_train2,y_test2 = train_test_split(X,y,test_size=0.2)\n",
    "# x_train3,x_test3,y_train3,y_test3 = train_test_split(X,y,test_size=0.2)\n",
    "\n",
    "# model = [(x_train1,x_test1,y_train1,y_test1),(x_train2,x_test2,y_train2,y_test2),(x_train3,x_test3,y_train3,y_test3)]"
   ]
  },
  {
   "cell_type": "code",
   "execution_count": 10,
   "metadata": {},
   "outputs": [],
   "source": [
    "x_train=scaler.fit_transform(x_train.to_numpy()) # x_train1 is a numpy array\n",
    "x_train=pd.DataFrame(x_train,columns=X.columns)"
   ]
  },
  {
   "cell_type": "code",
   "execution_count": 11,
   "metadata": {},
   "outputs": [],
   "source": [
    "x_test=scaler.fit_transform(x_test.to_numpy())\n",
    "x_test=pd.DataFrame(x_test,columns=X.columns)"
   ]
  },
  {
   "cell_type": "code",
   "execution_count": 12,
   "metadata": {},
   "outputs": [],
   "source": [
    "X_oot=scaler.fit_transform(X_oot.to_numpy())\n",
    "X_oot=pd.DataFrame(X_oot,columns=X.columns)"
   ]
  },
  {
   "cell_type": "code",
   "execution_count": 13,
   "metadata": {},
   "outputs": [],
   "source": [
    "def FDR(x,y,model):\n",
    "    pred = model.predict_proba(x)[:,1]\n",
    "    y_df = pd.DataFrame(y)\n",
    "    y_df['pred'] = pred\n",
    "    top = int(len(y_df) * 0.03)\n",
    "    numbads = sum(y_df['fraud_label'] == 1)\n",
    "    fdr = y_df.sort_values(by = 'pred', ascending = False).head(top).fraud_label.sum()/numbads\n",
    "    return fdr"
   ]
  },
  {
   "cell_type": "code",
   "execution_count": 14,
   "metadata": {},
   "outputs": [],
   "source": [
    "kernal = []\n",
    "C=[]\n",
    "gamma=[]\n",
    "train = []\n",
    "test = []\n",
    "ott = []"
   ]
  },
  {
   "cell_type": "code",
   "execution_count": 15,
   "metadata": {
    "scrolled": true
   },
   "outputs": [],
   "source": [
    "n_estimators = 10\n",
    "start = time.time()\n",
    "\n",
    "clf = BaggingClassifier(svm.SVC(kernel='linear', probability=True,C=0.1), max_samples=1.0 / n_estimators, n_estimators=n_estimators)\n",
    "clf.fit(x_train, y_train)\n",
    "end = time.time()\n"
   ]
  },
  {
   "cell_type": "code",
   "execution_count": 27,
   "metadata": {},
   "outputs": [
    {
     "data": {
      "text/plain": [
       "[]"
      ]
     },
     "execution_count": 27,
     "metadata": {},
     "output_type": "execute_result"
    }
   ],
   "source": []
  },
  {
   "cell_type": "code",
   "execution_count": 16,
   "metadata": {},
   "outputs": [
    {
     "name": "stdout",
     "output_type": "stream",
     "text": [
      "Bagging SVC 0.1 742.1075990200043\n"
     ]
    }
   ],
   "source": [
    "C.append(0.1)\n",
    "gamma.append(\"-\")\n",
    "train.append(FDR(x_train,y_train,clf))\n",
    "test.append(FDR(x_test,y_test,clf))\n",
    "ott.append(FDR(X_oot,y_oot,clf))\n",
    "print(\"Bagging SVC\",0.1, end - start)"
   ]
  },
  {
   "cell_type": "code",
   "execution_count": 31,
   "metadata": {},
   "outputs": [
    {
     "data": {
      "text/plain": [
       "[0.48700754400670576]"
      ]
     },
     "execution_count": 31,
     "metadata": {},
     "output_type": "execute_result"
    }
   ],
   "source": []
  },
  {
   "cell_type": "code",
   "execution_count": 17,
   "metadata": {},
   "outputs": [
    {
     "name": "stdout",
     "output_type": "stream",
     "text": [
      "Bagging SVC: linear 1 Time: 5631.959571838379\n",
      "Bagging SVC: linear 10 Time: 89329.83380031586\n"
     ]
    }
   ],
   "source": [
    "# linear \n",
    "Cs = [1, 10]\n",
    "for c in Cs:\n",
    "    n_estimators = 10\n",
    "    start = time.time()\n",
    "    clf = BaggingClassifier(svm.SVC(kernel='linear', probability=True,C=c), max_samples=1.0 / n_estimators, n_estimators=n_estimators)\n",
    "    clf.fit(x_train, y_train)\n",
    "    end = time.time()\n",
    "    kernal.append(\"linear\")\n",
    "    C.append(c)\n",
    "    gamma.append(\"-\")\n",
    "    train.append(FDR(x_train,y_train,clf))\n",
    "    test.append(FDR(x_test,y_test,clf))\n",
    "    ott.append(FDR(X_oot,y_oot,clf))\n",
    "    print(\"Bagging SVC: linear\",c,\"Time:\", end - start)"
   ]
  },
  {
   "cell_type": "code",
   "execution_count": 27,
   "metadata": {},
   "outputs": [],
   "source": [
    "kernal.append(\"linear\")"
   ]
  },
  {
   "cell_type": "code",
   "execution_count": 28,
   "metadata": {},
   "outputs": [],
   "source": [
    "# rbf variable combination\n",
    "Cs = [0.01, 1, 10]\n",
    "gammas = [\"auto\",\"scale\"]\n",
    "rbf_C_gammas = []\n",
    "for i in Cs:\n",
    "    for j in gammas:\n",
    "        rbf_C_gammas.append((i,j))"
   ]
  },
  {
   "cell_type": "code",
   "execution_count": 30,
   "metadata": {},
   "outputs": [
    {
     "name": "stdout",
     "output_type": "stream",
     "text": [
      "Bagging SVC 10 682.9935600757599\n",
      "Bagging SVC 10 818.884920835495\n",
      "Bagging SVC 10 611.2955009937286\n",
      "Bagging SVC 10 630.9531073570251\n",
      "Bagging SVC 10 765.9556128978729\n",
      "Bagging SVC 10 810.4129018783569\n"
     ]
    }
   ],
   "source": [
    "# rbf \n",
    "for p in rbf_C_gammas:\n",
    "    n_estimators = 10\n",
    "    start = time.time()\n",
    "    clf = BaggingClassifier(svm.SVC(kernel='rbf', probability=True,C=p[0],gamma=p[1]), max_samples=1.0 / n_estimators, n_estimators=n_estimators)\n",
    "    clf.fit(x_train, y_train)\n",
    "    end = time.time()\n",
    "    kernal.append(\"rbf\")\n",
    "    C.append(p[0])\n",
    "    gamma.append(p[1])\n",
    "    train.append(FDR(x_train,y_train,clf))\n",
    "    test.append(FDR(x_test,y_test,clf))\n",
    "    ott.append(FDR(X_oot,y_oot,clf))\n",
    "    print(\"Bagging SVC\",c, end - start)"
   ]
  },
  {
   "cell_type": "code",
   "execution_count": null,
   "metadata": {},
   "outputs": [],
   "source": [
    "# poly\n",
    "for c in Cs:\n",
    "    n_estimators = 10\n",
    "    start = time.time()\n",
    "    clf = BaggingClassifier(svm.SVC(kernel='poly', probability=True,C=p[0],gamma=p[1]), max_samples=1.0 / n_estimators, n_estimators=n_estimators)\n",
    "    clf.fit(x_train, y_train)\n",
    "    end = time.time()\n",
    "    kernal.append(\"poly\")\n",
    "    C.append(c)\n",
    "    gamma.append(\"-\")\n",
    "    train.append(FDR(x_train,y_train,clf))\n",
    "    test.append(FDR(x_test,y_test,clf))\n",
    "    ott.append(FDR(X_oot,y_oot,clf))\n",
    "    print(\"Bagging SVC\",c, end - start)"
   ]
  },
  {
   "cell_type": "code",
   "execution_count": 32,
   "metadata": {},
   "outputs": [
    {
     "data": {
      "text/plain": [
       "[0.1, 1, 10, 0.01, 0.01, 1, 1, 10, 10]"
      ]
     },
     "execution_count": 32,
     "metadata": {},
     "output_type": "execute_result"
    }
   ],
   "source": [
    "C"
   ]
  },
  {
   "cell_type": "code",
   "execution_count": 33,
   "metadata": {},
   "outputs": [],
   "source": [
    "# kernal = [\"linear\",\"linear\",\"linear\",\"rbf\",\"rbf\",\"rbf\",\"rbf\",\"rbf\",\"rbf\",\"poly\",\"poly\",\"poly\"]\n",
    "\n",
    "result = pd.DataFrame()\n",
    "result[\"kernal\"] = [\"linear\",\"linear\",\"linear\",\"rbf\",\"rbf\",\"rbf\",\"rbf\",\"rbf\",\"rbf\",\"poly\",\"poly\",\"poly\"]\n",
    "result[\"C\"] = C\n",
    "result[\"gamma\"] = gamma\n",
    "result[\"train\"] = train\n",
    "result[\"test\"] = test\n",
    "result[\"ott\"] = ott"
   ]
  },
  {
   "cell_type": "code",
   "execution_count": 34,
   "metadata": {
    "scrolled": true
   },
   "outputs": [
    {
     "data": {
      "text/html": [
       "<div>\n",
       "<style scoped>\n",
       "    .dataframe tbody tr th:only-of-type {\n",
       "        vertical-align: middle;\n",
       "    }\n",
       "\n",
       "    .dataframe tbody tr th {\n",
       "        vertical-align: top;\n",
       "    }\n",
       "\n",
       "    .dataframe thead th {\n",
       "        text-align: right;\n",
       "    }\n",
       "</style>\n",
       "<table border=\"1\" class=\"dataframe\">\n",
       "  <thead>\n",
       "    <tr style=\"text-align: right;\">\n",
       "      <th></th>\n",
       "      <th>kernal</th>\n",
       "      <th>C</th>\n",
       "      <th>gamma</th>\n",
       "      <th>train</th>\n",
       "      <th>test</th>\n",
       "      <th>ott</th>\n",
       "    </tr>\n",
       "  </thead>\n",
       "  <tbody>\n",
       "    <tr>\n",
       "      <th>0</th>\n",
       "      <td>linear</td>\n",
       "      <td>0.10</td>\n",
       "      <td>-</td>\n",
       "      <td>0.504475</td>\n",
       "      <td>0.501876</td>\n",
       "      <td>0.487008</td>\n",
       "    </tr>\n",
       "    <tr>\n",
       "      <th>1</th>\n",
       "      <td>linear</td>\n",
       "      <td>1.00</td>\n",
       "      <td>-</td>\n",
       "      <td>0.506973</td>\n",
       "      <td>0.500625</td>\n",
       "      <td>0.487427</td>\n",
       "    </tr>\n",
       "    <tr>\n",
       "      <th>2</th>\n",
       "      <td>linear</td>\n",
       "      <td>10.00</td>\n",
       "      <td>-</td>\n",
       "      <td>0.504371</td>\n",
       "      <td>0.501042</td>\n",
       "      <td>0.483655</td>\n",
       "    </tr>\n",
       "    <tr>\n",
       "      <th>3</th>\n",
       "      <td>rbf</td>\n",
       "      <td>0.01</td>\n",
       "      <td>auto</td>\n",
       "      <td>0.526124</td>\n",
       "      <td>0.524385</td>\n",
       "      <td>0.501257</td>\n",
       "    </tr>\n",
       "    <tr>\n",
       "      <th>4</th>\n",
       "      <td>rbf</td>\n",
       "      <td>0.01</td>\n",
       "      <td>scale</td>\n",
       "      <td>0.526332</td>\n",
       "      <td>0.523968</td>\n",
       "      <td>0.502096</td>\n",
       "    </tr>\n",
       "    <tr>\n",
       "      <th>5</th>\n",
       "      <td>rbf</td>\n",
       "      <td>1.00</td>\n",
       "      <td>auto</td>\n",
       "      <td>0.520296</td>\n",
       "      <td>0.519800</td>\n",
       "      <td>0.504191</td>\n",
       "    </tr>\n",
       "    <tr>\n",
       "      <th>6</th>\n",
       "      <td>rbf</td>\n",
       "      <td>1.00</td>\n",
       "      <td>scale</td>\n",
       "      <td>0.521440</td>\n",
       "      <td>0.521050</td>\n",
       "      <td>0.505029</td>\n",
       "    </tr>\n",
       "    <tr>\n",
       "      <th>7</th>\n",
       "      <td>rbf</td>\n",
       "      <td>10.00</td>\n",
       "      <td>auto</td>\n",
       "      <td>0.513947</td>\n",
       "      <td>0.517299</td>\n",
       "      <td>0.503353</td>\n",
       "    </tr>\n",
       "    <tr>\n",
       "      <th>8</th>\n",
       "      <td>rbf</td>\n",
       "      <td>10.00</td>\n",
       "      <td>scale</td>\n",
       "      <td>0.515820</td>\n",
       "      <td>0.521050</td>\n",
       "      <td>0.505029</td>\n",
       "    </tr>\n",
       "  </tbody>\n",
       "</table>\n",
       "</div>"
      ],
      "text/plain": [
       "   kernal      C  gamma     train      test       ott\n",
       "0  linear   0.10      -  0.504475  0.501876  0.487008\n",
       "1  linear   1.00      -  0.506973  0.500625  0.487427\n",
       "2  linear  10.00      -  0.504371  0.501042  0.483655\n",
       "3     rbf   0.01   auto  0.526124  0.524385  0.501257\n",
       "4     rbf   0.01  scale  0.526332  0.523968  0.502096\n",
       "5     rbf   1.00   auto  0.520296  0.519800  0.504191\n",
       "6     rbf   1.00  scale  0.521440  0.521050  0.505029\n",
       "7     rbf  10.00   auto  0.513947  0.517299  0.503353\n",
       "8     rbf  10.00  scale  0.515820  0.521050  0.505029"
      ]
     },
     "execution_count": 34,
     "metadata": {},
     "output_type": "execute_result"
    }
   ],
   "source": [
    "result"
   ]
  },
  {
   "cell_type": "code",
   "execution_count": 38,
   "metadata": {},
   "outputs": [],
   "source": [
    "result.to_csv(\"svm_result.csv\")"
   ]
  },
  {
   "cell_type": "code",
   "execution_count": 21,
   "metadata": {},
   "outputs": [],
   "source": [
    "train_three_per = x_train1.shape[0]*0.003+1\n",
    "test_three_per = x_test1.shape[0]*0.003+1\n",
    "ott_three_per = ott.shape[0]*0.003+1"
   ]
  },
  {
   "cell_type": "code",
   "execution_count": 22,
   "metadata": {},
   "outputs": [],
   "source": [
    "def fdr_calcualtion(model_fdr,score,y,fdr_list,three_per_slice,m):\n",
    "    score.sort(reverse=True)\n",
    "    model_fdr = model_fdr+sum(score[:three_per_slicea])/ int(y.sum())\n",
    "    print (model_fdr)\n",
    "    if m == 2:\n",
    "        print(m)\n",
    "        model_fdr = model_fdr/3\n",
    "        fdr_list.append(model_fdr)"
   ]
  },
  {
   "cell_type": "code",
   "execution_count": null,
   "metadata": {},
   "outputs": [],
   "source": [
    "# kernel = linear\n",
    "# kernels=[\"linear\",\"rbf\",\"poly\"]\n",
    "Cs = [0.001, 0.01, 0.1, 1, 10]\n",
    "\n",
    "train_fdr=[]\n",
    "test_fdr= []\n",
    "OTT_fdr = []\n",
    "for c in Cs:\n",
    "    model_fdr = 0\n",
    "    for m in range(len(model)):\n",
    "        svm_linear = svm.SVC(kernel='linear',C=c)\n",
    "        svm_linear.fit(model[m][0], model[m][2])\n",
    "        \n",
    "        # predict train data \n",
    "        train_score = list(svm_linear.predict(model[m][0]))\n",
    "        fdr_calcualtion(model_fdr,train_score,model[m][2],train_fdr,train_three_per,m)\n",
    "        \n",
    "        # predict test data \n",
    "        test_score = list(svm_linear.predict(model[m][1]))\n",
    "        fdr_calcualtion(model_fdr,train_score,model[m][3],train_fdr,test_three_per,m)\n",
    "\n",
    "        \n",
    "        # predict ott data \n",
    "        OTT_score = list(svm_linear.predict(ott))\n",
    "        fdr_calcualtion(model_fdr,OTT_score,ott,flabel_ott,OTT_fdr,ott_three_per,m)\n",
    "\n",
    "\n",
    "\n"
   ]
  },
  {
   "cell_type": "code",
   "execution_count": null,
   "metadata": {},
   "outputs": [],
   "source": [
    "# kernal = poly\n",
    "\n",
    "# kernel = linear\n",
    "# kernels=[\"linear\",\"rbf\",\"poly\"]\n",
    "\n",
    "train_fdr=[]\n",
    "test_fdr= []\n",
    "OTT_fdr = []\n",
    "for p in rbf_C_gammas:\n",
    "    model_fdr = 0\n",
    "    for m in range(len(model)):\n",
    "        svm_linear = svm.SVC(kernel='poly',C=p[0],gammas=p[1])\n",
    "        svm_linear.fit(model[m][0], model[m][2])\n",
    "        \n",
    "        # predict train data \n",
    "        train_score = list(svm_linear.predict(model[m][0]))\n",
    "        fdr_calcualtion(model_fdr,train_score,model[m][2],train_fdr,train_three_per,m)\n",
    "        \n",
    "        # predict test data \n",
    "        test_score = list(svm_linear.predict(model[m][1]))\n",
    "        fdr_calcualtion(model_fdr,train_score,model[m][3],train_fdr,test_three_per,m)\n",
    "\n",
    "        \n",
    "        # predict ott data \n",
    "        OTT_score = list(svm_linear.predict(ott))\n",
    "        fdr_calcualtion(model_fdr,OTT_score,ott,flabel_ott,OTT_fdr,ott_three_per,m)\n",
    "\n",
    "\n",
    "\n"
   ]
  },
  {
   "cell_type": "code",
   "execution_count": null,
   "metadata": {},
   "outputs": [],
   "source": [
    "# kernal = rbf\n",
    "\n",
    "\n",
    "\n",
    "train_fdr=[]\n",
    "test_fdr= []\n",
    "OTT_fdr = []\n",
    "for p in rbf_C_gammas:\n",
    "    model_fdr = 0\n",
    "    for m in range(len(model)):\n",
    "        svm_linear = svm.SVC(kernel='rbf',C=p[0],gammas=p[1])\n",
    "        svm_linear.fit(model[m][0], model[m][2])\n",
    "        \n",
    "        # predict train data \n",
    "        train_score = list(svm_linear.predict(model[m][0]))\n",
    "        fdr_calcualtion(model_fdr,train_score,model[m][2],train_fdr,train_three_per,m)\n",
    "        \n",
    "        # predict test data \n",
    "        test_score = list(svm_linear.predict(model[m][1]))\n",
    "        fdr_calcualtion(model_fdr,train_score,model[m][3],train_fdr,test_three_per,m)\n",
    "\n",
    "        \n",
    "        # predict ott data \n",
    "        OTT_score = list(svm_linear.predict(ott))\n",
    "        fdr_calcualtion(model_fdr,OTT_score,ott,flabel_ott,OTT_fdr,ott_three_per,m)\n",
    "\n",
    "\n",
    "\n"
   ]
  },
  {
   "cell_type": "code",
   "execution_count": null,
   "metadata": {},
   "outputs": [],
   "source": []
  },
  {
   "cell_type": "code",
   "execution_count": null,
   "metadata": {},
   "outputs": [],
   "source": []
  }
 ],
 "metadata": {
  "kernelspec": {
   "display_name": "Python 3",
   "language": "python",
   "name": "python3"
  },
  "language_info": {
   "codemirror_mode": {
    "name": "ipython",
    "version": 3
   },
   "file_extension": ".py",
   "mimetype": "text/x-python",
   "name": "python",
   "nbconvert_exporter": "python",
   "pygments_lexer": "ipython3",
   "version": "3.7.3"
  }
 },
 "nbformat": 4,
 "nbformat_minor": 2
}
